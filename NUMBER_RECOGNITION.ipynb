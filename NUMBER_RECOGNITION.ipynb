{
 "cells": [
  {
   "cell_type": "markdown",
   "metadata": {
    "id": "1NL4rOAbKQlj"
   },
   "source": [
    "(\"BHARAT INTERN\"-DATA SCIENCE )\n",
    "Number Recognition :\n",
    "Handwritten digit recognition system not only detects\n",
    "scanned images of handwritten digits.Handwritten digit\n",
    "recognition using MNIST dataset is a major project made\n",
    "with the help of Neural Network. It basically detects\n",
    "the scanned images of handwritten digits.          -By Vinay Tiwari"
   ]
  },
  {
   "cell_type": "code",
   "execution_count": 1,
   "metadata": {
    "id": "h3-PufxWElq5"
   },
   "outputs": [],
   "source": [
    "import keras\n",
    "from keras.datasets import mnist\n",
    "from keras.models import Sequential\n",
    "from keras.layers import Dense, Dropout, Flatten\n",
    "from keras.layers import Conv2D, MaxPooling2D \n",
    "import numpy as np\n",
    "import pandas as pd"
   ]
  },
  {
   "cell_type": "code",
   "execution_count": 2,
   "metadata": {
    "colab": {
     "base_uri": "https://localhost:8080/"
    },
    "id": "6eQ-Q1f6GRlD",
    "outputId": "0d7b9a63-dadb-4280-8b6c-be4a396c78a6"
   },
   "outputs": [],
   "source": [
    "# Load the MNIST dataset\n",
    "(x_train, y_train), (x_test, y_test) = mnist.load_data()\n"
   ]
  },
  {
   "cell_type": "code",
   "execution_count": 3,
   "metadata": {
    "id": "RGixq2dOGRoG"
   },
   "outputs": [],
   "source": [
    "# Prepare the data\n",
    "x_train = x_train.astype('float32') / 255.0\n",
    "x_test = x_test.astype('float32') / 255.0\n",
    "x_train = x_train.reshape(x_train.shape[0], 28, 28, 1)\n",
    "x_test = x_test.reshape(x_test.shape[0], 28, 28, 1)\n",
    "input_shape = (28, 28, 1)\n",
    "num_classes = 10\n",
    "y_train = keras.utils.to_categorical(y_train, num_classes)\n",
    "y_test = keras.utils.to_categorical(y_test, num_classes)"
   ]
  },
  {
   "cell_type": "code",
   "execution_count": 4,
   "metadata": {
    "id": "bdWskn0eGRrU"
   },
   "outputs": [],
   "source": [
    "# Build the neural network\n",
    "model = Sequential()\n",
    "model.add(Conv2D(32, kernel_size=(3, 3),\n",
    "                 activation='relu',\n",
    "                 input_shape=input_shape))\n",
    "model.add(Conv2D(64, (3, 3), activation='relu'))\n",
    "model.add(MaxPooling2D(pool_size=(2, 2)))\n",
    "model.add(Dropout(0.25))\n",
    "model.add(Flatten())\n",
    "model.add(Dense(128, activation='relu'))\n",
    "model.add(Dropout(0.5))\n",
    "model.add(Dense(num_classes, activation='softmax'))\n"
   ]
  },
  {
   "cell_type": "code",
   "execution_count": 5,
   "metadata": {
    "id": "rtlDK4DiGRvY"
   },
   "outputs": [],
   "source": [
    "# Compile the model\n",
    "model.compile(loss=keras.losses.categorical_crossentropy,\n",
    "              optimizer=keras.optimizers.Adadelta(),\n",
    "              metrics=['accuracy'])\n"
   ]
  },
  {
   "cell_type": "code",
   "execution_count": 6,
   "metadata": {
    "colab": {
     "base_uri": "https://localhost:8080/"
    },
    "id": "gwivBa6iGRy0",
    "outputId": "5b26fbe5-85f9-45cd-8449-83ef03742b5c"
   },
   "outputs": [
    {
     "name": "stdout",
     "output_type": "stream",
     "text": [
      "Epoch 1/12\n",
      "469/469 [==============================] - 148s 312ms/step - loss: 2.2816 - accuracy: 0.1527 - val_loss: 2.2565 - val_accuracy: 0.3019\n",
      "Epoch 2/12\n",
      "469/469 [==============================] - 145s 310ms/step - loss: 2.2425 - accuracy: 0.2392 - val_loss: 2.2102 - val_accuracy: 0.4088\n",
      "Epoch 3/12\n",
      "469/469 [==============================] - 146s 310ms/step - loss: 2.1943 - accuracy: 0.3149 - val_loss: 2.1488 - val_accuracy: 0.5343\n",
      "Epoch 4/12\n",
      "469/469 [==============================] - 146s 311ms/step - loss: 2.1284 - accuracy: 0.3876 - val_loss: 2.0636 - val_accuracy: 0.6349\n",
      "Epoch 5/12\n",
      "469/469 [==============================] - 150s 320ms/step - loss: 2.0376 - accuracy: 0.4569 - val_loss: 1.9443 - val_accuracy: 0.7045\n",
      "Epoch 6/12\n",
      "469/469 [==============================] - 147s 313ms/step - loss: 1.9134 - accuracy: 0.5158 - val_loss: 1.7888 - val_accuracy: 0.7401\n",
      "Epoch 7/12\n",
      "469/469 [==============================] - 146s 311ms/step - loss: 1.7636 - accuracy: 0.5656 - val_loss: 1.6019 - val_accuracy: 0.7695\n",
      "Epoch 8/12\n",
      "469/469 [==============================] - 167s 357ms/step - loss: 1.6005 - accuracy: 0.6012 - val_loss: 1.4028 - val_accuracy: 0.7918\n",
      "Epoch 9/12\n",
      "469/469 [==============================] - 148s 317ms/step - loss: 1.4372 - accuracy: 0.6291 - val_loss: 1.2150 - val_accuracy: 0.8058\n",
      "Epoch 10/12\n",
      "469/469 [==============================] - 145s 309ms/step - loss: 1.2947 - accuracy: 0.6554 - val_loss: 1.0550 - val_accuracy: 0.8152\n",
      "Epoch 11/12\n",
      "469/469 [==============================] - 143s 305ms/step - loss: 1.1757 - accuracy: 0.6760 - val_loss: 0.9274 - val_accuracy: 0.8256\n",
      "Epoch 12/12\n",
      "469/469 [==============================] - 144s 307ms/step - loss: 1.0801 - accuracy: 0.6916 - val_loss: 0.8274 - val_accuracy: 0.8337\n"
     ]
    },
    {
     "data": {
      "text/plain": [
       "<keras.src.callbacks.History at 0x1d1319bf790>"
      ]
     },
     "execution_count": 6,
     "metadata": {},
     "output_type": "execute_result"
    }
   ],
   "source": [
    "# Train the model\n",
    "model.fit(x_train, y_train,\n",
    "          batch_size=128,\n",
    "          epochs=12,\n",
    "          verbose=1,\n",
    "          validation_data=(x_test, y_test))\n"
   ]
  },
  {
   "cell_type": "code",
   "execution_count": 7,
   "metadata": {
    "colab": {
     "base_uri": "https://localhost:8080/"
    },
    "id": "joa1L6pWGnO_",
    "outputId": "8f1f68df-044b-4747-9b83-66b35115b25a"
   },
   "outputs": [
    {
     "name": "stdout",
     "output_type": "stream",
     "text": [
      "Test loss: 0.8274202346801758\n",
      "Test accuracy: 0.8337000012397766\n"
     ]
    }
   ],
   "source": [
    "# Evaluate the performance of the model\n",
    "score = model.evaluate(x_test, y_test, verbose=0)\n",
    "print('Test loss:', score[0])\n",
    "print('Test accuracy:', score[1])\n"
   ]
  },
  {
   "cell_type": "code",
   "execution_count": 8,
   "metadata": {
    "colab": {
     "base_uri": "https://localhost:8080/"
    },
    "id": "SsGFfeYwGq3w",
    "outputId": "0a4ac539-9970-4931-e5e6-e492b909dd02"
   },
   "outputs": [
    {
     "name": "stdout",
     "output_type": "stream",
     "text": [
      "313/313 [==============================] - 6s 20ms/step\n"
     ]
    }
   ],
   "source": [
    "# Use the model to make predictions on new images\n",
    "predictions = model.predict(x_test)"
   ]
  },
  {
   "cell_type": "code",
   "execution_count": 9,
   "metadata": {
    "colab": {
     "base_uri": "https://localhost:8080/"
    },
    "id": "Byttv3oqGwRN",
    "outputId": "2c0949a8-3676-4281-f1ff-6d93ded69f6f"
   },
   "outputs": [
    {
     "data": {
      "text/plain": [
       "array([[2.75624041e-02, 1.10549340e-02, 9.57463682e-03, ...,\n",
       "        7.76222289e-01, 3.42148393e-02, 4.08105329e-02],\n",
       "       [2.17167754e-02, 5.30641526e-02, 6.28788531e-01, ...,\n",
       "        1.78716937e-03, 3.75602879e-02, 3.51360510e-03],\n",
       "       [1.81314778e-02, 5.85820377e-01, 7.18149170e-02, ...,\n",
       "        4.58097383e-02, 7.51699060e-02, 3.07734590e-02],\n",
       "       ...,\n",
       "       [1.77268032e-02, 3.46979275e-02, 1.54928835e-02, ...,\n",
       "        1.49009168e-01, 1.54106647e-01, 2.22297058e-01],\n",
       "       [8.27350169e-02, 8.60592574e-02, 2.91361120e-02, ...,\n",
       "        1.03909582e-01, 2.84894854e-01, 7.39068165e-02],\n",
       "       [5.18009625e-02, 1.75492303e-03, 3.57359946e-02, ...,\n",
       "        4.60406998e-04, 2.16233474e-03, 4.00145864e-03]], dtype=float32)"
      ]
     },
     "execution_count": 9,
     "metadata": {},
     "output_type": "execute_result"
    }
   ],
   "source": [
    "predictions"
   ]
  },
  {
   "cell_type": "code",
   "execution_count": null,
   "metadata": {
    "id": "4zWFU0OxWZZB"
   },
   "outputs": [],
   "source": []
  }
 ],
 "metadata": {
  "colab": {
   "provenance": [],
   "toc_visible": true
  },
  "kernelspec": {
   "display_name": "Python 3 (ipykernel)",
   "language": "python",
   "name": "python3"
  },
  "language_info": {
   "codemirror_mode": {
    "name": "ipython",
    "version": 3
   },
   "file_extension": ".py",
   "mimetype": "text/x-python",
   "name": "python",
   "nbconvert_exporter": "python",
   "pygments_lexer": "ipython3",
   "version": "3.11.4"
  }
 },
 "nbformat": 4,
 "nbformat_minor": 4
}
